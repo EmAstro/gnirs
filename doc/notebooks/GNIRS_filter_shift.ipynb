{
 "cells": [
  {
   "cell_type": "markdown",
   "id": "a055f672",
   "metadata": {},
   "source": [
    "# Filter shift estimates for GNIRS acquistion"
   ]
  },
  {
   "cell_type": "markdown",
   "id": "2d224915",
   "metadata": {},
   "source": [
    "Details on the procedure are in [this internal page](http://internal.gemini.edu/science/instruments/GNIRS/Systems_Reference/filters/shifts.html)."
   ]
  },
  {
   "cell_type": "markdown",
   "id": "ac57a7ff",
   "metadata": {},
   "source": [
    "## Load modules and read the data"
   ]
  },
  {
   "cell_type": "code",
   "execution_count": 9,
   "id": "09605b2b",
   "metadata": {
    "ExecuteTime": {
     "end_time": "2022-04-16T00:25:52.924203Z",
     "start_time": "2022-04-16T00:25:52.919552Z"
    }
   },
   "outputs": [],
   "source": [
    "import gnirs\n",
    "from gnirs.io import fits\n",
    "from gnirs import photometry\n",
    "\n",
    "from astropy.io import ascii\n",
    "from astropy.table import column\n",
    "\n",
    "import astropy.units as u\n",
    "import numpy as np"
   ]
  },
  {
   "cell_type": "code",
   "execution_count": 2,
   "id": "7dc468f4",
   "metadata": {
    "ExecuteTime": {
     "end_time": "2022-04-15T22:13:08.034548Z",
     "start_time": "2022-04-15T22:13:08.031853Z"
    }
   },
   "outputs": [],
   "source": [
    "root_directory='/Users/emanuele.farina/Desktop/GEMINI/FilterShift/'\n",
    "# Where the fits files are\n",
    "data_directory=root_directory+'Data/'\n",
    "# Where the information on the data collected are\n",
    "# Note that beacuse the data are collected via the DM, the header of the files\n",
    "# are highly incompleted. So the information on the filter used needs to be \n",
    "# retrived from the this data table\n",
    "data_table_file=root_directory+'GNIRS_filter_shift_data_Mar2022.csv'\n",
    "# This is used to read the file number and convert it into a fits file name\n",
    "# Technically, this part is not necessary, but it is useful if a lot of fits\n",
    "# files are stored in the same directory\n",
    "root_filename='N20220407S'"
   ]
  },
  {
   "cell_type": "code",
   "execution_count": 3,
   "id": "0114742a",
   "metadata": {
    "ExecuteTime": {
     "end_time": "2022-04-15T22:13:08.048883Z",
     "start_time": "2022-04-15T22:13:08.036100Z"
    }
   },
   "outputs": [],
   "source": [
    "data_table = ascii.read(data_table_file)"
   ]
  },
  {
   "cell_type": "code",
   "execution_count": 4,
   "id": "e275149d",
   "metadata": {
    "ExecuteTime": {
     "end_time": "2022-04-15T22:13:08.069213Z",
     "start_time": "2022-04-15T22:13:08.051263Z"
    }
   },
   "outputs": [
    {
     "data": {
      "text/html": [
       "<i>Table length=41</i>\n",
       "<table id=\"table140255567600272-154176\" class=\"table-striped table-bordered table-condensed\">\n",
       "<thead><tr><th>idx</th><th>Filter</th><th>File</th><th>X (pix)</th><th>Y (pix)</th><th>Lowest X</th><th>Highest X</th><th>Lowest Y</th><th>Highest Y</th><th>Area</th></tr></thead>\n",
       "<tr><td>0</td><td>Y-MK + XD</td><td>86</td><td>--</td><td>--</td><td>--</td><td>--</td><td>--</td><td>--</td><td>--</td></tr>\n",
       "<tr><td>1</td><td>Y-MK + XD</td><td>87</td><td>--</td><td>--</td><td>--</td><td>--</td><td>--</td><td>--</td><td>--</td></tr>\n",
       "<tr><td>2</td><td>Y-MK + XD</td><td>88</td><td>--</td><td>--</td><td>--</td><td>--</td><td>--</td><td>--</td><td>--</td></tr>\n",
       "<tr><td>3</td><td>Y-MK + XD</td><td>89</td><td>--</td><td>--</td><td>--</td><td>--</td><td>--</td><td>--</td><td>--</td></tr>\n",
       "<tr><td>4</td><td>Y-MK + XD</td><td>90</td><td>--</td><td>--</td><td>--</td><td>--</td><td>--</td><td>--</td><td>--</td></tr>\n",
       "<tr><td>5</td><td>Y-MK + XD</td><td>91</td><td>--</td><td>--</td><td>--</td><td>--</td><td>--</td><td>--</td><td>--</td></tr>\n",
       "<tr><td>6</td><td>Y-MK + XD</td><td>92</td><td>--</td><td>--</td><td>--</td><td>--</td><td>--</td><td>--</td><td>--</td></tr>\n",
       "<tr><td>7</td><td>Y-MK + XD</td><td>93</td><td>--</td><td>--</td><td>--</td><td>--</td><td>--</td><td>--</td><td>--</td></tr>\n",
       "<tr><td>8</td><td>Y-MK + XD</td><td>94</td><td>--</td><td>--</td><td>--</td><td>--</td><td>--</td><td>--</td><td>--</td></tr>\n",
       "<tr><td>9</td><td>Y-MK + XD</td><td>95</td><td>--</td><td>--</td><td>--</td><td>--</td><td>--</td><td>--</td><td>--</td></tr>\n",
       "<tr><td>10</td><td>J-MK + XD</td><td>96</td><td>--</td><td>--</td><td>--</td><td>--</td><td>--</td><td>--</td><td>--</td></tr>\n",
       "<tr><td>11</td><td>J-MK + XD</td><td>97</td><td>--</td><td>--</td><td>--</td><td>--</td><td>--</td><td>--</td><td>--</td></tr>\n",
       "<tr><td>12</td><td>J-MK + XD</td><td>98</td><td>--</td><td>--</td><td>--</td><td>--</td><td>--</td><td>--</td><td>--</td></tr>\n",
       "<tr><td>13</td><td>J-MK + XD</td><td>99</td><td>--</td><td>--</td><td>--</td><td>--</td><td>--</td><td>--</td><td>--</td></tr>\n",
       "<tr><td>14</td><td>J-MK + XD</td><td>100</td><td>--</td><td>--</td><td>--</td><td>--</td><td>--</td><td>--</td><td>--</td></tr>\n",
       "<tr><td>15</td><td>J-MK + XD</td><td>101</td><td>--</td><td>--</td><td>--</td><td>--</td><td>--</td><td>--</td><td>--</td></tr>\n",
       "<tr><td>16</td><td>J-MK + XD</td><td>102</td><td>--</td><td>--</td><td>--</td><td>--</td><td>--</td><td>--</td><td>--</td></tr>\n",
       "<tr><td>17</td><td>J-MK + XD</td><td>103</td><td>--</td><td>--</td><td>--</td><td>--</td><td>--</td><td>--</td><td>--</td></tr>\n",
       "<tr><td>18</td><td>J-MK + XD</td><td>104</td><td>--</td><td>--</td><td>--</td><td>--</td><td>--</td><td>--</td><td>--</td></tr>\n",
       "<tr><td>19</td><td>J-MK + XD</td><td>105</td><td>--</td><td>--</td><td>--</td><td>--</td><td>--</td><td>--</td><td>--</td></tr>\n",
       "<tr><td>20</td><td>K-MK + XD</td><td>106</td><td>--</td><td>--</td><td>--</td><td>--</td><td>--</td><td>--</td><td>--</td></tr>\n",
       "<tr><td>21</td><td>K-MK + XD</td><td>107</td><td>--</td><td>--</td><td>--</td><td>--</td><td>--</td><td>--</td><td>--</td></tr>\n",
       "<tr><td>22</td><td>K-MK + XD</td><td>108</td><td>--</td><td>--</td><td>--</td><td>--</td><td>--</td><td>--</td><td>--</td></tr>\n",
       "<tr><td>23</td><td>K-MK + XD</td><td>109</td><td>--</td><td>--</td><td>--</td><td>--</td><td>--</td><td>--</td><td>--</td></tr>\n",
       "<tr><td>24</td><td>K-MK + XD</td><td>110</td><td>--</td><td>--</td><td>--</td><td>--</td><td>--</td><td>--</td><td>--</td></tr>\n",
       "<tr><td>25</td><td>K-MK + XD</td><td>111</td><td>--</td><td>--</td><td>--</td><td>--</td><td>--</td><td>--</td><td>--</td></tr>\n",
       "<tr><td>26</td><td>K-MK + XD</td><td>112</td><td>--</td><td>--</td><td>--</td><td>--</td><td>--</td><td>--</td><td>--</td></tr>\n",
       "<tr><td>27</td><td>K-MK + XD</td><td>113</td><td>--</td><td>--</td><td>--</td><td>--</td><td>--</td><td>--</td><td>--</td></tr>\n",
       "<tr><td>28</td><td>K-MK + XD</td><td>114</td><td>--</td><td>--</td><td>--</td><td>--</td><td>--</td><td>--</td><td>--</td></tr>\n",
       "<tr><td>29</td><td>K-MK + XD</td><td>115</td><td>--</td><td>--</td><td>--</td><td>--</td><td>--</td><td>--</td><td>--</td></tr>\n",
       "<tr><td>30</td><td>Open + XD</td><td>75</td><td>--</td><td>--</td><td>--</td><td>--</td><td>--</td><td>--</td><td>--</td></tr>\n",
       "<tr><td>31</td><td>Open + XD</td><td>76</td><td>--</td><td>--</td><td>--</td><td>--</td><td>--</td><td>--</td><td>--</td></tr>\n",
       "<tr><td>32</td><td>Open + XD</td><td>77</td><td>--</td><td>--</td><td>--</td><td>--</td><td>--</td><td>--</td><td>--</td></tr>\n",
       "<tr><td>33</td><td>Open + XD</td><td>78</td><td>--</td><td>--</td><td>--</td><td>--</td><td>--</td><td>--</td><td>--</td></tr>\n",
       "<tr><td>34</td><td>Open + XD</td><td>79</td><td>--</td><td>--</td><td>--</td><td>--</td><td>--</td><td>--</td><td>--</td></tr>\n",
       "<tr><td>35</td><td>Open + XD</td><td>80</td><td>--</td><td>--</td><td>--</td><td>--</td><td>--</td><td>--</td><td>--</td></tr>\n",
       "<tr><td>36</td><td>Open + XD</td><td>81</td><td>--</td><td>--</td><td>--</td><td>--</td><td>--</td><td>--</td><td>--</td></tr>\n",
       "<tr><td>37</td><td>Open + XD</td><td>82</td><td>--</td><td>--</td><td>--</td><td>--</td><td>--</td><td>--</td><td>--</td></tr>\n",
       "<tr><td>38</td><td>Open + XD</td><td>83</td><td>--</td><td>--</td><td>--</td><td>--</td><td>--</td><td>--</td><td>--</td></tr>\n",
       "<tr><td>39</td><td>Open + XD</td><td>84</td><td>--</td><td>--</td><td>--</td><td>--</td><td>--</td><td>--</td><td>--</td></tr>\n",
       "<tr><td>40</td><td>Open + XD</td><td>85</td><td>--</td><td>--</td><td>--</td><td>--</td><td>--</td><td>--</td><td>--</td></tr>\n",
       "</table><style>table.dataTable {clear: both; width: auto !important; margin: 0 !important;}\n",
       ".dataTables_info, .dataTables_length, .dataTables_filter, .dataTables_paginate{\n",
       "display: inline-block; margin-right: 1em; }\n",
       ".paginate_button { margin-right: 5px; }\n",
       "</style>\n",
       "<script>\n",
       "\n",
       "var astropy_sort_num = function(a, b) {\n",
       "    var a_num = parseFloat(a);\n",
       "    var b_num = parseFloat(b);\n",
       "\n",
       "    if (isNaN(a_num) && isNaN(b_num))\n",
       "        return ((a < b) ? -1 : ((a > b) ? 1 : 0));\n",
       "    else if (!isNaN(a_num) && !isNaN(b_num))\n",
       "        return ((a_num < b_num) ? -1 : ((a_num > b_num) ? 1 : 0));\n",
       "    else\n",
       "        return isNaN(a_num) ? -1 : 1;\n",
       "}\n",
       "\n",
       "require.config({paths: {\n",
       "    datatables: 'https://cdn.datatables.net/1.10.12/js/jquery.dataTables.min'\n",
       "}});\n",
       "require([\"datatables\"], function(){\n",
       "    console.log(\"$('#table140255567600272-154176').dataTable()\");\n",
       "    \n",
       "jQuery.extend( jQuery.fn.dataTableExt.oSort, {\n",
       "    \"optionalnum-asc\": astropy_sort_num,\n",
       "    \"optionalnum-desc\": function (a,b) { return -astropy_sort_num(a, b); }\n",
       "});\n",
       "\n",
       "    $('#table140255567600272-154176').dataTable({\n",
       "        order: [],\n",
       "        pageLength: 3,\n",
       "        lengthMenu: [[3, 10, 25, 50, 100, 500, 1000, -1], [3, 10, 25, 50, 100, 500, 1000, 'All']],\n",
       "        pagingType: \"full_numbers\",\n",
       "        columnDefs: [{targets: [0, 2, 3, 4, 5, 6, 7, 8, 9], type: \"optionalnum\"}]\n",
       "    });\n",
       "});\n",
       "</script>\n"
      ],
      "text/plain": [
       "<IPython.core.display.HTML object>"
      ]
     },
     "execution_count": 4,
     "metadata": {},
     "output_type": "execute_result"
    }
   ],
   "source": [
    "data_table.show_in_notebook(display_length=3)"
   ]
  },
  {
   "cell_type": "code",
   "execution_count": 5,
   "id": "1e45a19a",
   "metadata": {
    "ExecuteTime": {
     "end_time": "2022-04-15T22:13:08.084091Z",
     "start_time": "2022-04-15T22:13:08.070314Z"
    }
   },
   "outputs": [
    {
     "data": {
      "text/html": [
       "<i>Table length=41</i>\n",
       "<table id=\"table140255567600272-794444\" class=\"table-striped table-bordered table-condensed\">\n",
       "<thead><tr><th>idx</th><th>Filter</th><th>File</th><th>X (pix)</th><th>Y (pix)</th><th>Lowest X</th><th>Highest X</th><th>Lowest Y</th><th>Highest Y</th><th>Area</th><th>fits_file</th></tr></thead>\n",
       "<tr><td>0</td><td>Y-MK + XD</td><td>86</td><td>--</td><td>--</td><td>--</td><td>--</td><td>--</td><td>--</td><td>--</td><td>N20220407S0086.fits</td></tr>\n",
       "<tr><td>1</td><td>Y-MK + XD</td><td>87</td><td>--</td><td>--</td><td>--</td><td>--</td><td>--</td><td>--</td><td>--</td><td>N20220407S0087.fits</td></tr>\n",
       "<tr><td>2</td><td>Y-MK + XD</td><td>88</td><td>--</td><td>--</td><td>--</td><td>--</td><td>--</td><td>--</td><td>--</td><td>N20220407S0088.fits</td></tr>\n",
       "<tr><td>3</td><td>Y-MK + XD</td><td>89</td><td>--</td><td>--</td><td>--</td><td>--</td><td>--</td><td>--</td><td>--</td><td>N20220407S0089.fits</td></tr>\n",
       "<tr><td>4</td><td>Y-MK + XD</td><td>90</td><td>--</td><td>--</td><td>--</td><td>--</td><td>--</td><td>--</td><td>--</td><td>N20220407S0090.fits</td></tr>\n",
       "<tr><td>5</td><td>Y-MK + XD</td><td>91</td><td>--</td><td>--</td><td>--</td><td>--</td><td>--</td><td>--</td><td>--</td><td>N20220407S0091.fits</td></tr>\n",
       "<tr><td>6</td><td>Y-MK + XD</td><td>92</td><td>--</td><td>--</td><td>--</td><td>--</td><td>--</td><td>--</td><td>--</td><td>N20220407S0092.fits</td></tr>\n",
       "<tr><td>7</td><td>Y-MK + XD</td><td>93</td><td>--</td><td>--</td><td>--</td><td>--</td><td>--</td><td>--</td><td>--</td><td>N20220407S0093.fits</td></tr>\n",
       "<tr><td>8</td><td>Y-MK + XD</td><td>94</td><td>--</td><td>--</td><td>--</td><td>--</td><td>--</td><td>--</td><td>--</td><td>N20220407S0094.fits</td></tr>\n",
       "<tr><td>9</td><td>Y-MK + XD</td><td>95</td><td>--</td><td>--</td><td>--</td><td>--</td><td>--</td><td>--</td><td>--</td><td>N20220407S0095.fits</td></tr>\n",
       "<tr><td>10</td><td>J-MK + XD</td><td>96</td><td>--</td><td>--</td><td>--</td><td>--</td><td>--</td><td>--</td><td>--</td><td>N20220407S0096.fits</td></tr>\n",
       "<tr><td>11</td><td>J-MK + XD</td><td>97</td><td>--</td><td>--</td><td>--</td><td>--</td><td>--</td><td>--</td><td>--</td><td>N20220407S0097.fits</td></tr>\n",
       "<tr><td>12</td><td>J-MK + XD</td><td>98</td><td>--</td><td>--</td><td>--</td><td>--</td><td>--</td><td>--</td><td>--</td><td>N20220407S0098.fits</td></tr>\n",
       "<tr><td>13</td><td>J-MK + XD</td><td>99</td><td>--</td><td>--</td><td>--</td><td>--</td><td>--</td><td>--</td><td>--</td><td>N20220407S0099.fits</td></tr>\n",
       "<tr><td>14</td><td>J-MK + XD</td><td>100</td><td>--</td><td>--</td><td>--</td><td>--</td><td>--</td><td>--</td><td>--</td><td>N20220407S0100.fits</td></tr>\n",
       "<tr><td>15</td><td>J-MK + XD</td><td>101</td><td>--</td><td>--</td><td>--</td><td>--</td><td>--</td><td>--</td><td>--</td><td>N20220407S0101.fits</td></tr>\n",
       "<tr><td>16</td><td>J-MK + XD</td><td>102</td><td>--</td><td>--</td><td>--</td><td>--</td><td>--</td><td>--</td><td>--</td><td>N20220407S0102.fits</td></tr>\n",
       "<tr><td>17</td><td>J-MK + XD</td><td>103</td><td>--</td><td>--</td><td>--</td><td>--</td><td>--</td><td>--</td><td>--</td><td>N20220407S0103.fits</td></tr>\n",
       "<tr><td>18</td><td>J-MK + XD</td><td>104</td><td>--</td><td>--</td><td>--</td><td>--</td><td>--</td><td>--</td><td>--</td><td>N20220407S0104.fits</td></tr>\n",
       "<tr><td>19</td><td>J-MK + XD</td><td>105</td><td>--</td><td>--</td><td>--</td><td>--</td><td>--</td><td>--</td><td>--</td><td>N20220407S0105.fits</td></tr>\n",
       "<tr><td>20</td><td>K-MK + XD</td><td>106</td><td>--</td><td>--</td><td>--</td><td>--</td><td>--</td><td>--</td><td>--</td><td>N20220407S0106.fits</td></tr>\n",
       "<tr><td>21</td><td>K-MK + XD</td><td>107</td><td>--</td><td>--</td><td>--</td><td>--</td><td>--</td><td>--</td><td>--</td><td>N20220407S0107.fits</td></tr>\n",
       "<tr><td>22</td><td>K-MK + XD</td><td>108</td><td>--</td><td>--</td><td>--</td><td>--</td><td>--</td><td>--</td><td>--</td><td>N20220407S0108.fits</td></tr>\n",
       "<tr><td>23</td><td>K-MK + XD</td><td>109</td><td>--</td><td>--</td><td>--</td><td>--</td><td>--</td><td>--</td><td>--</td><td>N20220407S0109.fits</td></tr>\n",
       "<tr><td>24</td><td>K-MK + XD</td><td>110</td><td>--</td><td>--</td><td>--</td><td>--</td><td>--</td><td>--</td><td>--</td><td>N20220407S0110.fits</td></tr>\n",
       "<tr><td>25</td><td>K-MK + XD</td><td>111</td><td>--</td><td>--</td><td>--</td><td>--</td><td>--</td><td>--</td><td>--</td><td>N20220407S0111.fits</td></tr>\n",
       "<tr><td>26</td><td>K-MK + XD</td><td>112</td><td>--</td><td>--</td><td>--</td><td>--</td><td>--</td><td>--</td><td>--</td><td>N20220407S0112.fits</td></tr>\n",
       "<tr><td>27</td><td>K-MK + XD</td><td>113</td><td>--</td><td>--</td><td>--</td><td>--</td><td>--</td><td>--</td><td>--</td><td>N20220407S0113.fits</td></tr>\n",
       "<tr><td>28</td><td>K-MK + XD</td><td>114</td><td>--</td><td>--</td><td>--</td><td>--</td><td>--</td><td>--</td><td>--</td><td>N20220407S0114.fits</td></tr>\n",
       "<tr><td>29</td><td>K-MK + XD</td><td>115</td><td>--</td><td>--</td><td>--</td><td>--</td><td>--</td><td>--</td><td>--</td><td>N20220407S0115.fits</td></tr>\n",
       "<tr><td>30</td><td>Open + XD</td><td>75</td><td>--</td><td>--</td><td>--</td><td>--</td><td>--</td><td>--</td><td>--</td><td>N20220407S0075.fits</td></tr>\n",
       "<tr><td>31</td><td>Open + XD</td><td>76</td><td>--</td><td>--</td><td>--</td><td>--</td><td>--</td><td>--</td><td>--</td><td>N20220407S0076.fits</td></tr>\n",
       "<tr><td>32</td><td>Open + XD</td><td>77</td><td>--</td><td>--</td><td>--</td><td>--</td><td>--</td><td>--</td><td>--</td><td>N20220407S0077.fits</td></tr>\n",
       "<tr><td>33</td><td>Open + XD</td><td>78</td><td>--</td><td>--</td><td>--</td><td>--</td><td>--</td><td>--</td><td>--</td><td>N20220407S0078.fits</td></tr>\n",
       "<tr><td>34</td><td>Open + XD</td><td>79</td><td>--</td><td>--</td><td>--</td><td>--</td><td>--</td><td>--</td><td>--</td><td>N20220407S0079.fits</td></tr>\n",
       "<tr><td>35</td><td>Open + XD</td><td>80</td><td>--</td><td>--</td><td>--</td><td>--</td><td>--</td><td>--</td><td>--</td><td>N20220407S0080.fits</td></tr>\n",
       "<tr><td>36</td><td>Open + XD</td><td>81</td><td>--</td><td>--</td><td>--</td><td>--</td><td>--</td><td>--</td><td>--</td><td>N20220407S0081.fits</td></tr>\n",
       "<tr><td>37</td><td>Open + XD</td><td>82</td><td>--</td><td>--</td><td>--</td><td>--</td><td>--</td><td>--</td><td>--</td><td>N20220407S0082.fits</td></tr>\n",
       "<tr><td>38</td><td>Open + XD</td><td>83</td><td>--</td><td>--</td><td>--</td><td>--</td><td>--</td><td>--</td><td>--</td><td>N20220407S0083.fits</td></tr>\n",
       "<tr><td>39</td><td>Open + XD</td><td>84</td><td>--</td><td>--</td><td>--</td><td>--</td><td>--</td><td>--</td><td>--</td><td>N20220407S0084.fits</td></tr>\n",
       "<tr><td>40</td><td>Open + XD</td><td>85</td><td>--</td><td>--</td><td>--</td><td>--</td><td>--</td><td>--</td><td>--</td><td>N20220407S0085.fits</td></tr>\n",
       "</table><style>table.dataTable {clear: both; width: auto !important; margin: 0 !important;}\n",
       ".dataTables_info, .dataTables_length, .dataTables_filter, .dataTables_paginate{\n",
       "display: inline-block; margin-right: 1em; }\n",
       ".paginate_button { margin-right: 5px; }\n",
       "</style>\n",
       "<script>\n",
       "\n",
       "var astropy_sort_num = function(a, b) {\n",
       "    var a_num = parseFloat(a);\n",
       "    var b_num = parseFloat(b);\n",
       "\n",
       "    if (isNaN(a_num) && isNaN(b_num))\n",
       "        return ((a < b) ? -1 : ((a > b) ? 1 : 0));\n",
       "    else if (!isNaN(a_num) && !isNaN(b_num))\n",
       "        return ((a_num < b_num) ? -1 : ((a_num > b_num) ? 1 : 0));\n",
       "    else\n",
       "        return isNaN(a_num) ? -1 : 1;\n",
       "}\n",
       "\n",
       "require.config({paths: {\n",
       "    datatables: 'https://cdn.datatables.net/1.10.12/js/jquery.dataTables.min'\n",
       "}});\n",
       "require([\"datatables\"], function(){\n",
       "    console.log(\"$('#table140255567600272-794444').dataTable()\");\n",
       "    \n",
       "jQuery.extend( jQuery.fn.dataTableExt.oSort, {\n",
       "    \"optionalnum-asc\": astropy_sort_num,\n",
       "    \"optionalnum-desc\": function (a,b) { return -astropy_sort_num(a, b); }\n",
       "});\n",
       "\n",
       "    $('#table140255567600272-794444').dataTable({\n",
       "        order: [],\n",
       "        pageLength: 3,\n",
       "        lengthMenu: [[3, 10, 25, 50, 100, 500, 1000, -1], [3, 10, 25, 50, 100, 500, 1000, 'All']],\n",
       "        pagingType: \"full_numbers\",\n",
       "        columnDefs: [{targets: [0, 2, 3, 4, 5, 6, 7, 8, 9], type: \"optionalnum\"}]\n",
       "    });\n",
       "});\n",
       "</script>\n"
      ],
      "text/plain": [
       "<IPython.core.display.HTML object>"
      ]
     },
     "execution_count": 5,
     "metadata": {},
     "output_type": "execute_result"
    }
   ],
   "source": [
    "# update the fits file names\n",
    "fits_file_array = np.empty_like(data_table['File'].data, dtype='object')\n",
    "for idx in range(len(data_table['File'].data)):\n",
    "    fits_file_array[idx] = root_filename + str(data_table['File'].data[idx]).zfill(4) + '.fits'\n",
    "fits_file_column = column.Column(name='fits_file', data=fits_file_array, dtype=str)\n",
    "data_table.add_column(fits_file_column)\n",
    "data_table.show_in_notebook(display_length=3)"
   ]
  },
  {
   "cell_type": "code",
   "execution_count": 11,
   "id": "6b9062d4",
   "metadata": {
    "ExecuteTime": {
     "end_time": "2022-04-16T00:26:55.967049Z",
     "start_time": "2022-04-16T00:26:55.951237Z"
    }
   },
   "outputs": [
    {
     "ename": "AttributeError",
     "evalue": "module 'gnirs.photometry' has no attribute 'aperture_photometry'",
     "output_type": "error",
     "traceback": [
      "\u001b[0;31m---------------------------------------------------------------------------\u001b[0m",
      "\u001b[0;31mAttributeError\u001b[0m                            Traceback (most recent call last)",
      "\u001b[0;32m/var/folders/lb/dp07tycn66lg6vn9s48c_j6m000g04/T/ipykernel_3584/352009460.py\u001b[0m in \u001b[0;36m<module>\u001b[0;34m\u001b[0m\n\u001b[1;32m      9\u001b[0m         \u001b[0mgnirs_data\u001b[0m\u001b[0;34m.\u001b[0m\u001b[0mfilter_one\u001b[0m \u001b[0;34m=\u001b[0m \u001b[0mdata_table\u001b[0m\u001b[0;34m[\u001b[0m\u001b[0;34m'Filter'\u001b[0m\u001b[0;34m]\u001b[0m\u001b[0;34m[\u001b[0m\u001b[0midx\u001b[0m\u001b[0;34m]\u001b[0m\u001b[0;34m.\u001b[0m\u001b[0msplit\u001b[0m\u001b[0;34m(\u001b[0m\u001b[0;34m'+'\u001b[0m\u001b[0;34m)\u001b[0m\u001b[0;34m[\u001b[0m\u001b[0;36m0\u001b[0m\u001b[0;34m]\u001b[0m\u001b[0;34m.\u001b[0m\u001b[0mstrip\u001b[0m\u001b[0;34m(\u001b[0m\u001b[0;34m)\u001b[0m\u001b[0;34m\u001b[0m\u001b[0;34m\u001b[0m\u001b[0m\n\u001b[1;32m     10\u001b[0m         \u001b[0mgnirs_data\u001b[0m\u001b[0;34m.\u001b[0m\u001b[0mfilter_two\u001b[0m \u001b[0;34m=\u001b[0m \u001b[0mdata_table\u001b[0m\u001b[0;34m[\u001b[0m\u001b[0;34m'Filter'\u001b[0m\u001b[0;34m]\u001b[0m\u001b[0;34m[\u001b[0m\u001b[0midx\u001b[0m\u001b[0;34m]\u001b[0m\u001b[0;34m.\u001b[0m\u001b[0msplit\u001b[0m\u001b[0;34m(\u001b[0m\u001b[0;34m'+'\u001b[0m\u001b[0;34m)\u001b[0m\u001b[0;34m[\u001b[0m\u001b[0;36m1\u001b[0m\u001b[0;34m]\u001b[0m\u001b[0;34m.\u001b[0m\u001b[0mstrip\u001b[0m\u001b[0;34m(\u001b[0m\u001b[0;34m)\u001b[0m\u001b[0;34m\u001b[0m\u001b[0;34m\u001b[0m\u001b[0m\n\u001b[0;32m---> 11\u001b[0;31m         \u001b[0mphotometry\u001b[0m\u001b[0;34m.\u001b[0m\u001b[0maperture_photometry\u001b[0m\u001b[0;34m(\u001b[0m\u001b[0mgnirs_data\u001b[0m\u001b[0;34m)\u001b[0m\u001b[0;34m\u001b[0m\u001b[0;34m\u001b[0m\u001b[0m\n\u001b[0m\u001b[1;32m     12\u001b[0m     \u001b[0;32mexcept\u001b[0m \u001b[0mValueError\u001b[0m\u001b[0;34m:\u001b[0m\u001b[0;34m\u001b[0m\u001b[0;34m\u001b[0m\u001b[0m\n\u001b[1;32m     13\u001b[0m         \u001b[0mprint\u001b[0m\u001b[0;34m(\u001b[0m\u001b[0;34m'Missing file: {}'\u001b[0m\u001b[0;34m.\u001b[0m\u001b[0mformat\u001b[0m\u001b[0;34m(\u001b[0m\u001b[0mdata_directory\u001b[0m\u001b[0;34m+\u001b[0m\u001b[0mdata_table\u001b[0m\u001b[0;34m[\u001b[0m\u001b[0;34m'fits_file'\u001b[0m\u001b[0;34m]\u001b[0m\u001b[0;34m[\u001b[0m\u001b[0midx\u001b[0m\u001b[0;34m]\u001b[0m\u001b[0;34m)\u001b[0m\u001b[0;34m)\u001b[0m\u001b[0;34m\u001b[0m\u001b[0;34m\u001b[0m\u001b[0m\n",
      "\u001b[0;31mAttributeError\u001b[0m: module 'gnirs.photometry' has no attribute 'aperture_photometry'"
     ]
    }
   ],
   "source": [
    "for idx in range(len(data_table['File'].data)):\n",
    "    try: \n",
    "        gnirs_data = fits.GnirsFits()\n",
    "        gnirs_data.fits_file = data_directory+data_table['fits_file'][idx]\n",
    "        # These need to added because data are coming form the DM\n",
    "        # so the information is not present in the header\n",
    "        gnirs_data.data_type = 'IMAGING'\n",
    "        gnirs_data.pixel_scale = 0.05 * u.arcsec / u.pixel\n",
    "        gnirs_data.filter_one = data_table['Filter'][idx].split('+')[0].strip()\n",
    "        gnirs_data.filter_two = data_table['Filter'][idx].split('+')[1].strip()\n",
    "        photometry.aperture_photometry(gnirs_data)\n",
    "    except ValueError:\n",
    "        print('Missing file: {}'.format(data_directory+data_table['fits_file'][idx]))"
   ]
  },
  {
   "cell_type": "code",
   "execution_count": null,
   "id": "5bc9b4b8",
   "metadata": {
    "ExecuteTime": {
     "end_time": "2022-04-15T22:13:08.104306Z",
     "start_time": "2022-04-15T22:13:08.104293Z"
    }
   },
   "outputs": [],
   "source": [
    "print(5.*u.pix * u.pixel_scale(0.15*u.arcsec/u.pix))\n",
    "\n"
   ]
  },
  {
   "cell_type": "code",
   "execution_count": 12,
   "id": "dce14350",
   "metadata": {
    "ExecuteTime": {
     "end_time": "2022-04-16T01:20:51.502057Z",
     "start_time": "2022-04-16T01:20:51.499322Z"
    }
   },
   "outputs": [],
   "source": [
    "xxx = (3.0,4.0)"
   ]
  },
  {
   "cell_type": "code",
   "execution_count": 15,
   "id": "32dbc7a4",
   "metadata": {
    "ExecuteTime": {
     "end_time": "2022-04-16T01:21:11.214421Z",
     "start_time": "2022-04-16T01:21:11.210175Z"
    }
   },
   "outputs": [
    {
     "data": {
      "text/plain": [
       "tuple"
      ]
     },
     "execution_count": 15,
     "metadata": {},
     "output_type": "execute_result"
    }
   ],
   "source": [
    "type(xxx)"
   ]
  },
  {
   "cell_type": "code",
   "execution_count": 20,
   "id": "2c30095a",
   "metadata": {
    "ExecuteTime": {
     "end_time": "2022-04-16T05:04:33.549076Z",
     "start_time": "2022-04-16T05:04:33.544346Z"
    }
   },
   "outputs": [
    {
     "data": {
      "text/plain": [
       "True"
      ]
     },
     "execution_count": 20,
     "metadata": {},
     "output_type": "execute_result"
    }
   ],
   "source": [
    "(type(xxx[0]*u.pix) is u.quantity.Quantity)"
   ]
  },
  {
   "cell_type": "code",
   "execution_count": null,
   "id": "ec3776d3",
   "metadata": {},
   "outputs": [],
   "source": []
  }
 ],
 "metadata": {
  "kernelspec": {
   "display_name": "py39",
   "language": "python",
   "name": "py39"
  },
  "language_info": {
   "codemirror_mode": {
    "name": "ipython",
    "version": 3
   },
   "file_extension": ".py",
   "mimetype": "text/x-python",
   "name": "python",
   "nbconvert_exporter": "python",
   "pygments_lexer": "ipython3",
   "version": "3.9.7"
  },
  "toc": {
   "base_numbering": 1,
   "nav_menu": {},
   "number_sections": true,
   "sideBar": true,
   "skip_h1_title": false,
   "title_cell": "Table of Contents",
   "title_sidebar": "Contents",
   "toc_cell": false,
   "toc_position": {},
   "toc_section_display": true,
   "toc_window_display": false
  },
  "varInspector": {
   "cols": {
    "lenName": 16,
    "lenType": 16,
    "lenVar": 40
   },
   "kernels_config": {
    "python": {
     "delete_cmd_postfix": "",
     "delete_cmd_prefix": "del ",
     "library": "var_list.py",
     "varRefreshCmd": "print(var_dic_list())"
    },
    "r": {
     "delete_cmd_postfix": ") ",
     "delete_cmd_prefix": "rm(",
     "library": "var_list.r",
     "varRefreshCmd": "cat(var_dic_list()) "
    }
   },
   "types_to_exclude": [
    "module",
    "function",
    "builtin_function_or_method",
    "instance",
    "_Feature"
   ],
   "window_display": false
  }
 },
 "nbformat": 4,
 "nbformat_minor": 5
}
